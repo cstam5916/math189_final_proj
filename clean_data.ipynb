{
 "cells": [
  {
   "cell_type": "code",
   "execution_count": 1,
   "metadata": {},
   "outputs": [],
   "source": [
    "import numpy as np\n",
    "import pandas as pd\n",
    "import matplotlib.pyplot as plt\n",
    "from tqdm.auto import tqdm\n",
    "tqdm.pandas()"
   ]
  },
  {
   "cell_type": "markdown",
   "metadata": {},
   "source": [
    "### Observe the dataset: This is the dataset after combining NIFC & Openweather data, with no further cleaning steps."
   ]
  },
  {
   "cell_type": "code",
   "execution_count": 2,
   "metadata": {},
   "outputs": [
    {
     "data": {
      "text/html": [
       "<div>\n",
       "<style scoped>\n",
       "    .dataframe tbody tr th:only-of-type {\n",
       "        vertical-align: middle;\n",
       "    }\n",
       "\n",
       "    .dataframe tbody tr th {\n",
       "        vertical-align: top;\n",
       "    }\n",
       "\n",
       "    .dataframe thead th {\n",
       "        text-align: right;\n",
       "    }\n",
       "</style>\n",
       "<table border=\"1\" class=\"dataframe\">\n",
       "  <thead>\n",
       "    <tr style=\"text-align: right;\">\n",
       "      <th></th>\n",
       "      <th>ID</th>\n",
       "      <th>lat</th>\n",
       "      <th>lon</th>\n",
       "      <th>start_date</th>\n",
       "      <th>incident name</th>\n",
       "      <th>fully_contained</th>\n",
       "      <th>geographic_area</th>\n",
       "      <th>new</th>\n",
       "      <th>size</th>\n",
       "      <th>temp</th>\n",
       "      <th>...</th>\n",
       "      <th>pressure</th>\n",
       "      <th>humidity</th>\n",
       "      <th>dew_point</th>\n",
       "      <th>clouds</th>\n",
       "      <th>visibility</th>\n",
       "      <th>wind_speed</th>\n",
       "      <th>wind_deg</th>\n",
       "      <th>rain</th>\n",
       "      <th>weather</th>\n",
       "      <th>weather_description</th>\n",
       "    </tr>\n",
       "  </thead>\n",
       "  <tbody>\n",
       "    <tr>\n",
       "      <th>0</th>\n",
       "      <td>19337</td>\n",
       "      <td>34.871</td>\n",
       "      <td>-94.666</td>\n",
       "      <td>12/31/2022 12:00:00 AM</td>\n",
       "      <td>Pine_Mt._Fire</td>\n",
       "      <td>c</td>\n",
       "      <td>SAC</td>\n",
       "      <td>y</td>\n",
       "      <td>436.0</td>\n",
       "      <td>285.28</td>\n",
       "      <td>...</td>\n",
       "      <td>1015</td>\n",
       "      <td>58</td>\n",
       "      <td>277.27</td>\n",
       "      <td>0</td>\n",
       "      <td>10000.0</td>\n",
       "      <td>0.00</td>\n",
       "      <td>0</td>\n",
       "      <td>NaN</td>\n",
       "      <td>Clear</td>\n",
       "      <td>clear sky</td>\n",
       "    </tr>\n",
       "    <tr>\n",
       "      <th>1</th>\n",
       "      <td>19339</td>\n",
       "      <td>29.362</td>\n",
       "      <td>-82.600</td>\n",
       "      <td>1/11/2023 12:00:00 AM</td>\n",
       "      <td>NE_CR_337</td>\n",
       "      <td>c</td>\n",
       "      <td>SAC</td>\n",
       "      <td>y</td>\n",
       "      <td>182.0</td>\n",
       "      <td>286.23</td>\n",
       "      <td>...</td>\n",
       "      <td>1020</td>\n",
       "      <td>74</td>\n",
       "      <td>281.71</td>\n",
       "      <td>0</td>\n",
       "      <td>NaN</td>\n",
       "      <td>3.18</td>\n",
       "      <td>272</td>\n",
       "      <td>NaN</td>\n",
       "      <td>Clear</td>\n",
       "      <td>clear sky</td>\n",
       "    </tr>\n",
       "    <tr>\n",
       "      <th>2</th>\n",
       "      <td>19340</td>\n",
       "      <td>33.203</td>\n",
       "      <td>-99.255</td>\n",
       "      <td>1/11/2023 12:00:00 AM</td>\n",
       "      <td>Cellers_Hill</td>\n",
       "      <td>c</td>\n",
       "      <td>SAC</td>\n",
       "      <td>y</td>\n",
       "      <td>695.0</td>\n",
       "      <td>298.12</td>\n",
       "      <td>...</td>\n",
       "      <td>1009</td>\n",
       "      <td>10</td>\n",
       "      <td>265.39</td>\n",
       "      <td>100</td>\n",
       "      <td>NaN</td>\n",
       "      <td>4.63</td>\n",
       "      <td>249</td>\n",
       "      <td>NaN</td>\n",
       "      <td>Clouds</td>\n",
       "      <td>overcast clouds</td>\n",
       "    </tr>\n",
       "    <tr>\n",
       "      <th>3</th>\n",
       "      <td>19341</td>\n",
       "      <td>27.686</td>\n",
       "      <td>-81.934</td>\n",
       "      <td>1/10/2023 12:00:00 AM</td>\n",
       "      <td>STREAMSONG</td>\n",
       "      <td>c</td>\n",
       "      <td>SAC</td>\n",
       "      <td>NaN</td>\n",
       "      <td>475.0</td>\n",
       "      <td>292.92</td>\n",
       "      <td>...</td>\n",
       "      <td>1020</td>\n",
       "      <td>78</td>\n",
       "      <td>288.98</td>\n",
       "      <td>1</td>\n",
       "      <td>NaN</td>\n",
       "      <td>1.34</td>\n",
       "      <td>313</td>\n",
       "      <td>NaN</td>\n",
       "      <td>Clear</td>\n",
       "      <td>clear sky</td>\n",
       "    </tr>\n",
       "    <tr>\n",
       "      <th>4</th>\n",
       "      <td>19343</td>\n",
       "      <td>35.296</td>\n",
       "      <td>-95.924</td>\n",
       "      <td>1/14/2023 12:00:00 AM</td>\n",
       "      <td>RATTLESNAKE_HOLLOW</td>\n",
       "      <td>c</td>\n",
       "      <td>SAC</td>\n",
       "      <td>y</td>\n",
       "      <td>888.0</td>\n",
       "      <td>278.55</td>\n",
       "      <td>...</td>\n",
       "      <td>1029</td>\n",
       "      <td>62</td>\n",
       "      <td>272.01</td>\n",
       "      <td>89</td>\n",
       "      <td>NaN</td>\n",
       "      <td>1.84</td>\n",
       "      <td>45</td>\n",
       "      <td>NaN</td>\n",
       "      <td>Clouds</td>\n",
       "      <td>overcast clouds</td>\n",
       "    </tr>\n",
       "  </tbody>\n",
       "</table>\n",
       "<p>5 rows × 21 columns</p>\n",
       "</div>"
      ],
      "text/plain": [
       "      ID     lat     lon              start_date       incident name  \\\n",
       "0  19337  34.871 -94.666  12/31/2022 12:00:00 AM       Pine_Mt._Fire   \n",
       "1  19339  29.362 -82.600   1/11/2023 12:00:00 AM           NE_CR_337   \n",
       "2  19340  33.203 -99.255   1/11/2023 12:00:00 AM        Cellers_Hill   \n",
       "3  19341  27.686 -81.934   1/10/2023 12:00:00 AM          STREAMSONG   \n",
       "4  19343  35.296 -95.924   1/14/2023 12:00:00 AM  RATTLESNAKE_HOLLOW   \n",
       "\n",
       "  fully_contained geographic_area  new   size    temp  ...  pressure  \\\n",
       "0               c             SAC    y  436.0  285.28  ...      1015   \n",
       "1               c             SAC    y  182.0  286.23  ...      1020   \n",
       "2               c             SAC    y  695.0  298.12  ...      1009   \n",
       "3               c             SAC  NaN  475.0  292.92  ...      1020   \n",
       "4               c             SAC    y  888.0  278.55  ...      1029   \n",
       "\n",
       "   humidity  dew_point  clouds  visibility  wind_speed  wind_deg  rain  \\\n",
       "0        58     277.27       0     10000.0        0.00         0   NaN   \n",
       "1        74     281.71       0         NaN        3.18       272   NaN   \n",
       "2        10     265.39     100         NaN        4.63       249   NaN   \n",
       "3        78     288.98       1         NaN        1.34       313   NaN   \n",
       "4        62     272.01      89         NaN        1.84        45   NaN   \n",
       "\n",
       "   weather weather_description  \n",
       "0    Clear           clear sky  \n",
       "1    Clear           clear sky  \n",
       "2   Clouds     overcast clouds  \n",
       "3    Clear           clear sky  \n",
       "4   Clouds     overcast clouds  \n",
       "\n",
       "[5 rows x 21 columns]"
      ]
     },
     "execution_count": 2,
     "metadata": {},
     "output_type": "execute_result"
    }
   ],
   "source": [
    "raw_data = pd.read_csv('data/raw_data.csv').drop(columns=['Unnamed: 0'])\n",
    "raw_data.head()"
   ]
  },
  {
   "cell_type": "code",
   "execution_count": 3,
   "metadata": {},
   "outputs": [],
   "source": [
    "# Dropping columns - these are columns that we determined were unfit for regression before feature selection, due to missing values or irrelevancy. \n",
    "raw_data = raw_data.drop(columns=['visibility', 'new', 'wind_deg'])"
   ]
  },
  {
   "cell_type": "code",
   "execution_count": 4,
   "metadata": {},
   "outputs": [
    {
     "name": "stdout",
     "output_type": "stream",
     "text": [
      "fully_contained\n",
      "c     898\n",
      "       48\n",
      "c      12\n",
      "C       1\n",
      "Name: count, dtype: int64\n"
     ]
    },
    {
     "name": "stderr",
     "output_type": "stream",
     "text": [
      "C:\\Users\\caleb\\AppData\\Local\\Temp\\ipykernel_14524\\2275281536.py:2: UserWarning: Could not infer format, so each element will be parsed individually, falling back to `dateutil`. To ensure parsing is consistent and as-expected, please specify a format.\n",
      "  raw_data['start_date'] = pd.to_datetime(raw_data['start_date'])\n"
     ]
    }
   ],
   "source": [
    "# Type conversion: Hold on to dates as pandas datetimes\n",
    "raw_data['start_date'] = pd.to_datetime(raw_data['start_date'])\n",
    "# Messy data - fully contained should be boolean-valued, but has strings instead\n",
    "print(raw_data['fully_contained'].value_counts())\n",
    "raw_data['fully_contained'] = raw_data['fully_contained'].apply(lambda x: str(x).strip().lower() == 'c')\n",
    "# Missing values - usually NaN values instead of 0 to indicate no rainfall, due to the nature of the OpenWeather API\n",
    "raw_data['rain'] = raw_data['rain'].fillna(0)"
   ]
  },
  {
   "cell_type": "code",
   "execution_count": 5,
   "metadata": {},
   "outputs": [
    {
     "name": "stdout",
     "output_type": "stream",
     "text": [
      "geographic_area\n",
      "SAC      640\n",
      "SWC      132\n",
      "EACC      98\n",
      "NWCC      85\n",
      "RMC       76\n",
      "NRC       41\n",
      "ACC       35\n",
      "GBC       31\n",
      "OSCC      23\n",
      "ONCC      18\n",
      "SACC       4\n",
      "RMCC       3\n",
      "SAC3_      1\n",
      "NWC        1\n",
      "EAC        1\n",
      "Name: count, dtype: int64\n"
     ]
    },
    {
     "data": {
      "text/plain": [
       "geographic_area\n",
       "SAC     646\n",
       "SWC     132\n",
       "EACC     99\n",
       "NWCC     86\n",
       "RMC      79\n",
       "ONCC     41\n",
       "NRC      41\n",
       "ACC      35\n",
       "GBC      31\n",
       "Name: count, dtype: int64"
      ]
     },
     "execution_count": 5,
     "metadata": {},
     "output_type": "execute_result"
    }
   ],
   "source": [
    "# Observe: Several mislabeled observations due to human error\n",
    "# Codes are  abbreviations for Geographic Area Coordination Centers (GACC).\n",
    "# We manually relabeled them by learning what the proper classifications are supposed to be\n",
    "print(raw_data['geographic_area'].value_counts())\n",
    "def area_mapper(x):\n",
    "    area_map = {'SACC':'SAC', 'SAC3_':'SAC', 'NWC':'NWCC', 'RMCC':'RMC', 'EAC':'EACC', 'OSCC':'ONCC'}\n",
    "    if x in area_map.keys(): # Map mislabeled centers to the proper ones\n",
    "        return area_map[x]\n",
    "    elif (type(x) != str): # This is only one observation, we found the proper code manually by checking Lat/Lon coordinates\n",
    "        return 'SAC'\n",
    "    return x\n",
    "raw_data['geographic_area'] = raw_data['geographic_area'].apply(area_mapper)\n",
    "raw_data['geographic_area'].value_counts()"
   ]
  },
  {
   "cell_type": "code",
   "execution_count": 6,
   "metadata": {},
   "outputs": [
    {
     "name": "stdout",
     "output_type": "stream",
     "text": [
      "weather\n",
      "Clear     564\n",
      "Clouds    545\n",
      "Rain       69\n",
      "Smoke       6\n",
      "Haze        3\n",
      "Dust        1\n",
      "Snow        1\n",
      "Mist        1\n",
      "Name: count, dtype: int64\n"
     ]
    }
   ],
   "source": [
    "# Unbalanced categories in the weather column cause errors in regression. To prevent this, we choose to map them to \"Other\"\n",
    "weather_counts = raw_data['weather'].value_counts()\n",
    "print(weather_counts)\n",
    "other_weather = weather_counts.index[weather_counts < 10]\n",
    "weather_map =  lambda x: 'Other' if x in other_weather else x\n",
    "raw_data['weather'] = raw_data['weather'].map(weather_map)"
   ]
  },
  {
   "cell_type": "code",
   "execution_count": 7,
   "metadata": {},
   "outputs": [
    {
     "name": "stdout",
     "output_type": "stream",
     "text": [
      "weather_description\n",
      "clear sky           564\n",
      "overcast clouds     183\n",
      "broken clouds       148\n",
      "scattered clouds    123\n",
      "few clouds           91\n",
      "light rain           55\n",
      "moderate rain        14\n",
      "smoke                 6\n",
      "haze                  3\n",
      "dust                  1\n",
      "light snow            1\n",
      "mist                  1\n",
      "Name: count, dtype: int64\n"
     ]
    }
   ],
   "source": [
    "# The same is true for weather descriptions\n",
    "desc_counts = raw_data['weather_description'].value_counts()\n",
    "print(desc_counts)\n",
    "other_desc = desc_counts.index[desc_counts < 10]\n",
    "desc_map =  lambda x: 'other' if x in other_desc else x\n",
    "raw_data['weather_description'] = raw_data['weather_description'].map(desc_map)"
   ]
  },
  {
   "cell_type": "code",
   "execution_count": 8,
   "metadata": {},
   "outputs": [],
   "source": [
    "raw_data.to_csv('data/clean_fire_data.csv')"
   ]
  },
  {
   "cell_type": "code",
   "execution_count": 10,
   "metadata": {},
   "outputs": [
    {
     "data": {
      "text/plain": [
       "(1190, 18)"
      ]
     },
     "execution_count": 10,
     "metadata": {},
     "output_type": "execute_result"
    }
   ],
   "source": [
    "raw_data.shape"
   ]
  },
  {
   "cell_type": "code",
   "execution_count": 13,
   "metadata": {},
   "outputs": [
    {
     "data": {
      "text/plain": [
       "ID                                   19337\n",
       "lat                                 34.871\n",
       "lon                                -94.666\n",
       "start_date             2022-12-31 00:00:00\n",
       "incident name                Pine_Mt._Fire\n",
       "fully_contained                       True\n",
       "geographic_area                        SAC\n",
       "size                                 436.0\n",
       "temp                                285.28\n",
       "feels_like                          284.06\n",
       "pressure                              1015\n",
       "humidity                                58\n",
       "dew_point                           277.27\n",
       "clouds                                   0\n",
       "wind_speed                             0.0\n",
       "rain                                   0.0\n",
       "weather                              Clear\n",
       "weather_description              clear sky\n",
       "Name: 0, dtype: object"
      ]
     },
     "execution_count": 13,
     "metadata": {},
     "output_type": "execute_result"
    }
   ],
   "source": [
    "raw_data.iloc[0]"
   ]
  },
  {
   "cell_type": "code",
   "execution_count": 12,
   "metadata": {},
   "outputs": [
    {
     "data": {
      "text/plain": [
       "ID                              int64\n",
       "lat                           float64\n",
       "lon                           float64\n",
       "start_date             datetime64[ns]\n",
       "incident name                  object\n",
       "fully_contained                  bool\n",
       "geographic_area                object\n",
       "size                          float64\n",
       "temp                          float64\n",
       "feels_like                    float64\n",
       "pressure                        int64\n",
       "humidity                        int64\n",
       "dew_point                     float64\n",
       "clouds                          int64\n",
       "wind_speed                    float64\n",
       "rain                          float64\n",
       "weather                        object\n",
       "weather_description            object\n",
       "dtype: object"
      ]
     },
     "execution_count": 12,
     "metadata": {},
     "output_type": "execute_result"
    }
   ],
   "source": [
    "raw_data.dtypes"
   ]
  },
  {
   "cell_type": "code",
   "execution_count": null,
   "metadata": {},
   "outputs": [],
   "source": []
  }
 ],
 "metadata": {
  "kernelspec": {
   "display_name": "cuda",
   "language": "python",
   "name": "python3"
  },
  "language_info": {
   "codemirror_mode": {
    "name": "ipython",
    "version": 3
   },
   "file_extension": ".py",
   "mimetype": "text/x-python",
   "name": "python",
   "nbconvert_exporter": "python",
   "pygments_lexer": "ipython3",
   "version": "3.11.5"
  }
 },
 "nbformat": 4,
 "nbformat_minor": 2
}
